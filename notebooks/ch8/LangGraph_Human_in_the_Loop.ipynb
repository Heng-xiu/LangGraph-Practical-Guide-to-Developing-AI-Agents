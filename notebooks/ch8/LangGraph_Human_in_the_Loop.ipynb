{
  "nbformat": 4,
  "nbformat_minor": 0,
  "metadata": {
    "colab": {
      "provenance": [],
      "collapsed_sections": [
        "APCR4ZjDGi9R"
      ]
    },
    "kernelspec": {
      "name": "python3",
      "display_name": "Python 3"
    },
    "language_info": {
      "name": "python"
    }
  },
  "cells": [
    {
      "cell_type": "markdown",
      "source": [
        "# 🥱 LangGraph 篇_Human_in_the_loop(人機迴圈)\n",
        "\n",
        "❤️ Created by [hengshiousheu](https://huggingface.co/Heng666)."
      ],
      "metadata": {
        "id": "8_GUhnSFGYW2"
      }
    },
    {
      "cell_type": "markdown",
      "source": [
        "## 環境建置\n",
        "\n",
        "### 安裝套件包\n",
        "\n",
        "在本演練中，\n",
        "\n",
        "我們將使用以下套件："
      ],
      "metadata": {
        "id": "JULY8fXgGect"
      }
    },
    {
      "cell_type": "code",
      "execution_count": 1,
      "metadata": {
        "colab": {
          "base_uri": "https://localhost:8080/"
        },
        "id": "9f2kxXjpGStc",
        "outputId": "67ac05e8-d53f-4a21-94b3-17fb3cacaeae"
      },
      "outputs": [
        {
          "output_type": "stream",
          "name": "stdout",
          "text": [
            "\u001b[2K   \u001b[90m━━━━━━━━━━━━━━━━━━━━━━━━━━━━━━━━━━━━━━━━\u001b[0m \u001b[32m74.5/74.5 kB\u001b[0m \u001b[31m2.0 MB/s\u001b[0m eta \u001b[36m0:00:00\u001b[0m\n",
            "\u001b[2K     \u001b[90m━━━━━━━━━━━━━━━━━━━━━━━━━━━━━━━━━━━━━━━━\u001b[0m \u001b[32m43.7/43.7 kB\u001b[0m \u001b[31m2.0 MB/s\u001b[0m eta \u001b[36m0:00:00\u001b[0m\n",
            "\u001b[2K   \u001b[90m━━━━━━━━━━━━━━━━━━━━━━━━━━━━━━━━━━━━━━━━\u001b[0m \u001b[32m153.3/153.3 kB\u001b[0m \u001b[31m6.0 MB/s\u001b[0m eta \u001b[36m0:00:00\u001b[0m\n",
            "\u001b[2K   \u001b[90m━━━━━━━━━━━━━━━━━━━━━━━━━━━━━━━━━━━━━━━━\u001b[0m \u001b[32m43.9/43.9 kB\u001b[0m \u001b[31m3.2 MB/s\u001b[0m eta \u001b[36m0:00:00\u001b[0m\n",
            "\u001b[2K   \u001b[90m━━━━━━━━━━━━━━━━━━━━━━━━━━━━━━━━━━━━━━━━\u001b[0m \u001b[32m54.6/54.6 kB\u001b[0m \u001b[31m3.7 MB/s\u001b[0m eta \u001b[36m0:00:00\u001b[0m\n",
            "\u001b[2K   \u001b[90m━━━━━━━━━━━━━━━━━━━━━━━━━━━━━━━━━━━━━━━━\u001b[0m \u001b[32m216.7/216.7 kB\u001b[0m \u001b[31m14.4 MB/s\u001b[0m eta \u001b[36m0:00:00\u001b[0m\n",
            "\u001b[?25h"
          ]
        }
      ],
      "source": [
        "%pip install --upgrade --quiet langchain\n",
        "%pip install --upgrade --quiet langchain-openai\n",
        "%pip install --upgrade --quiet langgraph"
      ]
    },
    {
      "cell_type": "markdown",
      "source": [
        "我們需要設置 環境變數 OPENAI_API_KEY ，可以直接完成，如下所示："
      ],
      "metadata": {
        "id": "xfc6-OOmGg43"
      }
    },
    {
      "cell_type": "code",
      "source": [
        "import os\n",
        "import getpass\n",
        "from google.colab import userdata\n",
        "\n",
        "os.environ[\"OPENAI_API_KEY\"] = userdata.get('OPENAI_API_KEY')"
      ],
      "metadata": {
        "id": "zpBSxjgzGhip"
      },
      "execution_count": 2,
      "outputs": []
    },
    {
      "cell_type": "markdown",
      "source": [
        "### (可用可不用)LangSmith\n",
        "\n",
        "你用LangChain構建的許多應用程式將包含多個步驟，並多次調用LLM調用。隨著這些應用程式變得越來越複雜，能夠檢查您的鏈或代理內部到底發生了什麼變得至關重要。最好的方法是與[LangSmith](https://smith.langchain.com)合作。\n",
        "\n",
        "請注意，LangSmith 不是必需的，但它很有説明。如果您確實想使用 LangSmith，請在上面的鏈接中註冊后，請確保設置環境變數以開始記錄跟蹤："
      ],
      "metadata": {
        "id": "APCR4ZjDGi9R"
      }
    },
    {
      "cell_type": "code",
      "source": [
        "import os\n",
        "import getpass\n",
        "\n",
        "os.environ[\"LANGCHAIN_TRACING_V2\"] = \"false\" ##想要使用記得改 true, 不要時改 false.\n",
        "os.environ[\"LANGCHAIN_ENDPOINT\"] = \"https://api.smith.langchain.com\"\n",
        "os.environ[\"LANGCHAIN_API_KEY\"] = userdata.get('LANGCHAIN_API_KEY')"
      ],
      "metadata": {
        "id": "6AL0v7IJGj_0"
      },
      "execution_count": null,
      "outputs": []
    },
    {
      "cell_type": "markdown",
      "source": [
        "## 安裝與版本檢查"
      ],
      "metadata": {
        "id": "9dUVtohgGmRO"
      }
    },
    {
      "cell_type": "code",
      "source": [
        "import sys, platform, importlib\n",
        "print(\"Python:\", sys.version)\n",
        "print(\"OS:\", platform.platform())\n",
        "\n",
        "# 確認 langgraph 可成功匯入\n",
        "langgraph = importlib.import_module(\"langgraph\")\n",
        "print(\"langgraph 版本：\", getattr(langgraph, \"__version__\", \"未知\"))"
      ],
      "metadata": {
        "colab": {
          "base_uri": "https://localhost:8080/"
        },
        "id": "LduevHEfGoEl",
        "outputId": "e111bf1e-7204-4db4-e72c-e042e621a854"
      },
      "execution_count": 3,
      "outputs": [
        {
          "output_type": "stream",
          "name": "stdout",
          "text": [
            "Python: 3.12.11 (main, Jun  4 2025, 08:56:18) [GCC 11.4.0]\n",
            "OS: Linux-6.1.123+-x86_64-with-glibc2.35\n",
            "langgraph 版本： 未知\n"
          ]
        }
      ]
    },
    {
      "cell_type": "markdown",
      "source": [
        "## 定義共享狀態與必要節點（含 HIL 節點）\n",
        "我們定義構成工作流程的各個節點。這些節點可以是AI任務，也可以是我們人機迴圈的關鍵點。"
      ],
      "metadata": {
        "id": "99Y4_MG4HQiM"
      }
    },
    {
      "cell_type": "code",
      "source": [
        "import uuid\n",
        "from typing import TypedDict, Literal\n",
        "\n",
        "from langgraph.graph import StateGraph, START, END\n",
        "from langgraph.checkpoint.memory import InMemorySaver  # 用於檢查點儲存（開發測試）\n",
        "from langgraph.types import interrupt, Command         # HIL 核心功能：中斷與命令導向\n",
        "\n",
        "# ---- 共用狀態（會在節點間傳遞）----\n",
        "class State(TypedDict):\n",
        "    llm_output: str  # 儲存 LLM 生成的內容（此範例以假資料模擬）\n",
        "    decision: str    # 儲存人類的決定（'approved' 或 'rejected'）"
      ],
      "metadata": {
        "id": "QNDljznEH3q0"
      },
      "execution_count": 12,
      "outputs": []
    },
    {
      "cell_type": "code",
      "source": [
        "# 節點一：LLM 輸出模擬（實際應用中會是真正的 LLM 呼叫）\n",
        "def generate_llm_output(state: State) -> State:\n",
        "    # 實際應用中，這裡會呼叫 LLM 產生報告內容\n",
        "    return {\"llm_output\": \"這是一份需要批准的 LLM 生成報告，內容關於「市場進入策略」。\"}\n",
        "\n",
        "# 節點二：人類審核與決策（人機迴圈點）----\n",
        "def human_approval(state: State) -> Command[Literal[\"approved_path\", \"rejected_path\"]]:\n",
        "    print(\"\\n---節點：等待人類審核---\")\n",
        "    print(f\"請審閱以下內容：\\n{state['llm_output']}\\n\")\n",
        "\n",
        "    # 使用 interrupt() 暫停圖形執行，並將資訊呈現給人類\n",
        "    # interrupt()的回傳值將會是人類透過 Command(resume=...) 注入的資料\n",
        "    user_decision = interrupt({\n",
        "        \"question\": \"您是否批准此報告？請輸入 'approve'（批准） 或 'reject'（拒絕）\",\n",
        "        \"content_to_review\": state[\"llm_output\"],\n",
        "    })\n",
        "\n",
        "    #根據人類輸入決定後續路徑\n",
        "    if str(user_decision).strip().lower() == \"approve\":\n",
        "        print(\"✅ 人類已批准，導向『批准』路徑\")\n",
        "        # (2)! 使用Command(goto=...) 導向到指定的節點，並可同時更新狀態\n",
        "        return Command(goto=\"approved_path\", update={\"decision\": \"approved\"})\n",
        "    else:\n",
        "        print(\"❌ 人類已拒絕，導向『拒絕』路徑\")\n",
        "        # (3)! 導向拒絕路徑\n",
        "        return Command(goto=\"rejected_path\", update={\"decision\": \"rejected\"})\n",
        "\n",
        "# ---- 節點三：批准後的執行路徑 ----\n",
        "def approved_node(state: State) -> State:\n",
        "    print(\"--- 節點：在『批准』路徑中執行 ---\")\n",
        "    print(f\"報告已批准，可進行後續操作（例如：發送報告）。最終決策：{state.get('decision')}\")\n",
        "    return state\n",
        "\n",
        "# ---- 節點四：拒絕後的執行路徑 ----\n",
        "def rejected_node(state: State) -> State:\n",
        "    print(\"🛑 節點：在『拒絕』路徑中執行\")\n",
        "    print(f\"報告被拒絕，未執行後續操作。最終決策：{state.get('decision')}\")\n",
        "    return state"
      ],
      "metadata": {
        "id": "UQBTrfvZHLz3"
      },
      "execution_count": 13,
      "outputs": []
    },
    {
      "cell_type": "markdown",
      "source": [
        "在human_approval節點中，interrupt() 是實現人機迴圈的核心。它會暫停圖形執行，並將 { \"question\": ..., \"content_to_review\": ... } 這個字典傳送給外部等待人類輸入。當人類透過Command(resume=...) 恢復執行時，interrupt() 的返回值就是resume所帶入的值（例如 \"approve\" 或 \"reject\"）。接著，我們利用Command(goto=...) 來根據人類的決策，動態地將工作流程導向不同的後續節點，實現決策分流。"
      ],
      "metadata": {
        "id": "pcAYC45HKH67"
      }
    },
    {
      "cell_type": "markdown",
      "source": [
        "## 建構與編譯圖形（啟用記憶體檢查點）\n",
        "\n",
        "現在，我們將這些節點組合成一個LangGraph圖形，設定入口點和節點之間的連接關係。"
      ],
      "metadata": {
        "id": "NkTZF8YPHUrU"
      }
    },
    {
      "cell_type": "code",
      "source": [
        "# 建立圖形實例，並加入節點\n",
        "builder = StateGraph(State)\n",
        "builder.add_node(\"generate_llm_output\", generate_llm_output)\n",
        "builder.add_node(\"human_approval\", human_approval)\n",
        "builder.add_node(\"approved_path\", approved_node)\n",
        "builder.add_node(\"rejected_path\", rejected_node)\n",
        "\n",
        "# 設定起點與流向\n",
        "builder.set_entry_point(\"generate_llm_output\")\n",
        "builder.add_edge(\"generate_llm_output\", \"human_approval\")\n",
        "# human_approval 會直接用 Command(goto=...) 控制往哪個節點\n",
        "builder.add_edge(\"approved_path\", END)\n",
        "builder.add_edge(\"rejected_path\", END)\n",
        "\n",
        "# 編譯＋啟用檢查點（沒有它就無法中斷/恢復）\n",
        "checkpointer = InMemorySaver()   # 正式環境請改為持久化儲存（例如資料庫）\n",
        "graph = builder.compile(checkpointer=checkpointer)\n",
        "\n",
        "print(\"✅ 圖形編譯完成（已啟用 InMemorySaver）\")\n"
      ],
      "metadata": {
        "colab": {
          "base_uri": "https://localhost:8080/"
        },
        "id": "tfDqonczHTDf",
        "outputId": "5a2df68c-70c0-4b22-a558-3f96bfb265dc"
      },
      "execution_count": 14,
      "outputs": [
        {
          "output_type": "stream",
          "name": "stdout",
          "text": [
            "✅ 圖形編譯完成（已啟用 InMemorySaver）\n"
          ]
        }
      ]
    },
    {
      "cell_type": "markdown",
      "source": [
        "這裡我們使用了StateGraph來定義一個圖，並透過add_node和add_edge來連結節點。特別重要的是，我們在compile時指定了一個checkpointer。沒有checkpointer，interrupt功能將無法運作，因為它無法儲存和恢復中斷時的圖形狀態。"
      ],
      "metadata": {
        "id": "3Az8KVEDJ8D6"
      }
    },
    {
      "cell_type": "markdown",
      "source": [
        "## 可視化結果"
      ],
      "metadata": {
        "id": "Zbz5HIkeHXRK"
      }
    },
    {
      "cell_type": "code",
      "source": [
        "from IPython.display import Image, display\n",
        "\n",
        "display(Image(graph.get_graph(xray=True).draw_mermaid_png()))"
      ],
      "metadata": {
        "colab": {
          "base_uri": "https://localhost:8080/",
          "height": 449
        },
        "id": "Pob_msG7HV2l",
        "outputId": "59d58364-0171-4a89-c5a2-d516156cf2d1"
      },
      "execution_count": 7,
      "outputs": [
        {
          "output_type": "display_data",
          "data": {
            "image/png": "[encoded data removed]",
            "text/plain": [
              "<IPython.core.display.Image object>"
            ]
          },
          "metadata": {}
        }
      ]
    },
    {
      "cell_type": "markdown",
      "source": [
        "##執行與恢復工作流程\n",
        "最後，我們將實際執行這個圖形，模擬人類介入的過程。"
      ],
      "metadata": {
        "id": "11OExT0bHeOk"
      }
    },
    {
      "cell_type": "code",
      "source": [
        "# 執行與恢復工作流程（單一 cell）\n",
        "import uuid\n",
        "from langgraph.types import Command\n",
        "\n",
        "# 第一次執行圖形，這會從 \"generate_llm_output\" 開始，然後暫停在 \"human_approval\"\n",
        "# 必須提供一個唯一的thread_id，用於追蹤特定的會話狀態\n",
        "thread_id = str(uuid.uuid4())\n",
        "thread_config = {\"configurable\": {\"thread_id\": thread_id}}\n",
        "\n",
        "print(f\"\\n--- 第一次執行圖形 (Thread ID: {thread_id}) ---\")\n",
        "print(\"LLM將生成輸出，然後流程會中斷，等待人類批准/拒絕。\")\n",
        "\n",
        "# 呼叫invoke()，當遇到interrupt時會返回帶有 '__interrupt__' 鍵的結果\n",
        "first_result = graph.invoke({}, config=thread_config)\n",
        "\n",
        "# 檢查是否因interrupt而中斷\n",
        "if '__interrupt__' in first_result:\n",
        "    print(f\"\\n圖形已中斷，等待人類輸入。中斷資訊：\\n{first_result['__interrupt__']}\")\n",
        "\n",
        "    # --- 模擬人類在外部介面收到提示並做出決策 ---\n",
        "    user_input_decision = \"approve\"  # 你可以將這裡改為 \"reject\" 來測試不同的路徑\n",
        "    print(f\"\\n--- 人類輸入決策：'{user_input_decision}' ---\")\n",
        "\n",
        "    # 使用Command(resume=...) 恢復執行，並將人類輸入傳回給interrupt函式\n",
        "    final_result = graph.invoke(Command(resume=user_input_decision), config=thread_config)\n",
        "\n",
        "    print(f\"\\n--- 圖形恢復執行後的最終狀態 ---\")\n",
        "    print(f\"最終狀態內容：{final_result}\")\n",
        "else:\n",
        "    print(f\"\\n圖形未中斷（可能已自行完成），最終狀態：{first_result}\")\n",
        "\n",
        "print(\"\\n--- 示範結束 ---\")\n"
      ],
      "metadata": {
        "colab": {
          "base_uri": "https://localhost:8080/"
        },
        "id": "iEJGGevhHcH3",
        "outputId": "18639c1c-7e5a-4a38-c992-81af8147b8ed"
      },
      "execution_count": 15,
      "outputs": [
        {
          "output_type": "stream",
          "name": "stdout",
          "text": [
            "\n",
            "--- 第一次執行圖形 (Thread ID: c5689458-92ea-45d6-8880-98f30f6cbdac) ---\n",
            "LLM將生成輸出，然後流程會中斷，等待人類批准/拒絕。\n",
            "\n",
            "---節點：等待人類審核---\n",
            "請審閱以下內容：\n",
            "這是一份需要批准的 LLM 生成報告，內容關於「市場進入策略」。\n",
            "\n",
            "\n",
            "圖形已中斷，等待人類輸入。中斷資訊：\n",
            "[Interrupt(value={'question': \"您是否批准此報告？請輸入 'approve'（批准） 或 'reject'（拒絕）\", 'content_to_review': '這是一份需要批准的 LLM 生成報告，內容關於「市場進入策略」。'}, id='e45c07b5e75a23336f1588a28c07597b')]\n",
            "\n",
            "--- 人類輸入決策：'approve' ---\n",
            "\n",
            "---節點：等待人類審核---\n",
            "請審閱以下內容：\n",
            "這是一份需要批准的 LLM 生成報告，內容關於「市場進入策略」。\n",
            "\n",
            "✅ 人類已批准，導向『批准』路徑\n",
            "--- 節點：在『批准』路徑中執行 ---\n",
            "報告已批准，可進行後續操作（例如：發送報告）。最終決策：approved\n",
            "\n",
            "--- 圖形恢復執行後的最終狀態 ---\n",
            "最終狀態內容：{'llm_output': '這是一份需要批准的 LLM 生成報告，內容關於「市場進入策略」。', 'decision': 'approved'}\n",
            "\n",
            "--- 示範結束 ---\n"
          ]
        }
      ]
    },
    {
      "cell_type": "code",
      "source": [],
      "metadata": {
        "id": "eCR9y7pYHlUV"
      },
      "execution_count": null,
      "outputs": []
    }
  ]
}